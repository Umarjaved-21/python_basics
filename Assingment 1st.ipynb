{
 "cells": [
  {
   "cell_type": "markdown",
   "id": "ca1c71ec-6dec-4795-bb21-cd58e5ca6996",
   "metadata": {},
   "source": [
    "Basic variables"
   ]
  },
  {
   "cell_type": "code",
   "execution_count": 1,
   "id": "68f62efa-433c-4406-8e52-3bf786a22d88",
   "metadata": {},
   "outputs": [
    {
     "name": "stdout",
     "output_type": "stream",
     "text": [
      "after swaping : x =  5 & y =  10\n"
     ]
    }
   ],
   "source": [
    "# Code to swap x & y\n",
    "x = 10\n",
    "y = 5\n",
    "x = x+y\n",
    "y = x-y\n",
    "x= x-y\n",
    "print(\"after swaping : x = \", x ,\"&\", \"y = \",y)"
   ]
  },
  {
   "cell_type": "code",
   "execution_count": 2,
   "id": "78d73d48-539d-44a5-a0a6-77a21fd80b17",
   "metadata": {},
   "outputs": [
    {
     "name": "stdout",
     "output_type": "stream",
     "text": [
      "area of rectangle is: 25\n"
     ]
    }
   ],
   "source": [
    "# Area of rectangle\n",
    "length = 5\n",
    "breadth = 5\n",
    "area = length * breadth\n",
    "print(\"area of rectangle is:\",area)"
   ]
  },
  {
   "cell_type": "code",
   "execution_count": 3,
   "id": "ae124e3c-bb2c-4061-978f-1cb548718a11",
   "metadata": {},
   "outputs": [
    {
     "name": "stdin",
     "output_type": "stream",
     "text": [
      "Enter temperature in celsius :  23\n"
     ]
    },
    {
     "name": "stdout",
     "output_type": "stream",
     "text": [
      "73.4\n"
     ]
    }
   ],
   "source": [
    "# Programme for celcius to farehnite \n",
    "\n",
    "celsius = float(input(\"Enter temperature in celsius : \"))\n",
    "\n",
    "farehnite = (celsius * 9/5)+32\n",
    "\n",
    "print(farehnite)"
   ]
  },
  {
   "cell_type": "markdown",
   "id": "b2776945-bfd7-478a-9b91-54a77d4db430",
   "metadata": {},
   "source": [
    "String based question"
   ]
  },
  {
   "cell_type": "code",
   "execution_count": 33,
   "id": "d68ccb94-9e3f-4da1-b9c6-170d61f4e420",
   "metadata": {},
   "outputs": [
    {
     "name": "stdin",
     "output_type": "stream",
     "text": [
      "Enter string umar\n"
     ]
    },
    {
     "name": "stdout",
     "output_type": "stream",
     "text": [
      "The length of the input string is ; 4\n"
     ]
    }
   ],
   "source": [
    "''' Write a Python program that takes a string as input and prints the length of\n",
    "the string.'''\n",
    "input_string = input(\"Enter string\")\n",
    "string_length = len(input_string)\n",
    "print(\"The length of the input string is ;\",string_length)"
   ]
  },
  {
   "cell_type": "code",
   "execution_count": null,
   "id": "dcd1ee72-1791-4d8e-864c-82c9309a6678",
   "metadata": {},
   "outputs": [],
   "source": [
    "'''Create a program that takes a sentence from the user and counts the number\n",
    "of vowels (a, e, i, o, u) in the string.'''\n",
    "\n",
    "sentence = input(\"Enter a sentance: \")\n",
    "\n",
    "vowel_count = 0\n",
    "\n",
    "for char in sentence:\n",
    "    char_lower = char.lower()\n",
    "    \n",
    "    if char_lower in \"aeiou\":\n",
    "         vowel_count += 1\n",
    "    \n",
    "\n",
    "print(\"Number of vowel:\",vowel_count)\n",
    "\n"
   ]
  },
  {
   "cell_type": "code",
   "execution_count": 20,
   "id": "c61c412d-d64b-4c7b-bbcc-ae2d6ac98f39",
   "metadata": {},
   "outputs": [
    {
     "name": "stdin",
     "output_type": "stream",
     "text": [
      "Enter a string:  Rahul\n"
     ]
    },
    {
     "name": "stdout",
     "output_type": "stream",
     "text": [
      "Reversed string:  luhaR\n"
     ]
    }
   ],
   "source": [
    "'''Given a string, reverse the order of characters using string slicing and print\n",
    "the reversed string.'''\n",
    "\n",
    "input_string = input(\"Enter a string: \")\n",
    "reversed_string = input_string[::-1]\n",
    "print(\"Reversed string: \", reversed_string)"
   ]
  },
  {
   "cell_type": "code",
   "execution_count": 23,
   "id": "17edebdf-d166-43c5-8726-e1fe2776653b",
   "metadata": {},
   "outputs": [
    {
     "name": "stdin",
     "output_type": "stream",
     "text": [
      "Enter a string lulu\n"
     ]
    },
    {
     "name": "stdout",
     "output_type": "stream",
     "text": [
      "The input string is not pallindrome\n"
     ]
    }
   ],
   "source": [
    " # Write a program that takes a string as input and checks if it is a palindrome (reads the same forwards and backwards).\n",
    "    \n",
    "input_string = input(\"Enter a string\")\n",
    "\n",
    "cleaned_string = input_string.replace(\" \", \"\").lower()\n",
    "\n",
    "reversed_string = cleaned_string[::-1]\n",
    " if cleaned_string == reversed_string:\n",
    "        print(\"The input string is pallindrome\")\n",
    "        \n",
    "else:\n",
    "            print(\"The input string is not pallindrome\")\n",
    "    \n",
    "    \n",
    "    \n",
    "    "
   ]
  },
  {
   "cell_type": "code",
   "execution_count": 30,
   "id": "a8c716d0-6ee0-4119-8cfa-6e31fa3a4fac",
   "metadata": {},
   "outputs": [
    {
     "name": "stdin",
     "output_type": "stream",
     "text": [
      "Enter a string:  umar javed\n"
     ]
    },
    {
     "name": "stdout",
     "output_type": "stream",
     "text": [
      "Modified string without space: umarjaved\n"
     ]
    }
   ],
   "source": [
    "input_string = input(\"Enter a string: \")\n",
    "modified_string = \"\"\n",
    "\n",
    "for char in input_string:\n",
    "    if char != \" \":\n",
    "        modified_string += char\n",
    "\n",
    "print(\"Modified string without space:\",modified_string)"
   ]
  }
 ],
 "metadata": {
  "kernelspec": {
   "display_name": "Python 3 (ipykernel)",
   "language": "python",
   "name": "python3"
  },
  "language_info": {
   "codemirror_mode": {
    "name": "ipython",
    "version": 3
   },
   "file_extension": ".py",
   "mimetype": "text/x-python",
   "name": "python",
   "nbconvert_exporter": "python",
   "pygments_lexer": "ipython3",
   "version": "3.10.8"
  }
 },
 "nbformat": 4,
 "nbformat_minor": 5
}
